{
 "cells": [
  {
   "cell_type": "markdown",
   "metadata": {},
   "source": [
    "### Práctica de Introducción al lenguaje Python"
   ]
  },
  {
   "cell_type": "markdown",
   "metadata": {},
   "source": [
    "#### Ejercicio 1[3 puntos]\n",
    "Considerar las monedas y billetes en curso de la Unión Europea. Se pide hacer un programa con  las funciones necesarias para  gestionar un terminal de punto de venta. Concretamente se quiere ayudar al cajero de manera que cuando introduzca el importe de la venta y el dinero entregado por el cliente, el programa muestre las vueltas que debe entregar al cliente de una forma óptima. Las vueltas son óptimas si para pagar una cantidad C se utiliza el menor número posible de monedas o billetes. Se va a suponer que existen monedas y billetes infinitos en el terminal de punto de venta."
   ]
  },
  {
   "cell_type": "code",
   "execution_count": null,
   "metadata": {
    "collapsed": true
   },
   "outputs": [],
   "source": [
    "def muestraVueltas(billetes, monedas):  # Muestra lo calculado en calculaVueltas, definida despues\n",
    "\n",
    "    cont = 0\n",
    "    vueltas = False\n",
    "    for i in billetes:\n",
    "        if i[1] > 0:\n",
    "            print(\"Billetes de \", i[0], \": \", i[1])\n",
    "            vueltas = True\n",
    "        cont += 1\n",
    "\n",
    "    cont = 0\n",
    "    for i in monedas:\n",
    "        if i[1] > 0:\n",
    "            print(\"Monedas de \", i[0], \": \", i[1])\n",
    "            vueltas = True\n",
    "        cont += 1\n",
    "        \n",
    "    if vueltas:\n",
    "        print(\"Estas son sus vueltas\")\n",
    "    else:\n",
    "        print(\"No hay vueltas\")"
   ]
  },
  {
   "cell_type": "code",
   "execution_count": null,
   "metadata": {
    "collapsed": true
   },
   "outputs": [],
   "source": [
    "def calculaVueltas(precio, pagado) :  # Calcula el numero de billetes y monedas de cada tipo a devolver\n",
    "\n",
    "    billetes = [(500,0), (200,0), (100,0), (50,0), (20,0), (10,0), (5,0)]  # Lista con tuplas valor-frecuencia inicial\n",
    "    monedas = [(2,0), (1,0), (0.5,0), (0.2,0), (0.1,0), (0.05,0), (0.02,0), (0.01,0)]  # Lista con tuplas valor-frecuencia inicial\n",
    "\n",
    "    diferencia = pagado - precio\n",
    "\n",
    "    i = 0\n",
    "\n",
    "    while(i < len(billetes) and diferencia >= 5):\n",
    "        if diferencia >= billetes[i][0]:\n",
    "            tmp = billetes[i][1]\n",
    "            tuplaTmp = (billetes[i][0], tmp+1)\n",
    "            billetes[i] = tuplaTmp\n",
    "            diferencia -= billetes[i][0]\n",
    "        else:\n",
    "            i += 1\n",
    "\n",
    "    if diferencia > 0:\n",
    "\n",
    "        i = 0\n",
    "\n",
    "        while(i < len(monedas) and diferencia > 0):\n",
    "            diferencia = round(diferencia,2)\n",
    "            if diferencia >= monedas[i][0]:\n",
    "                tmp = monedas[i][1]\n",
    "                tuplaTmp = (monedas[i][0], tmp+1)\n",
    "                monedas[i] = tuplaTmp\n",
    "                diferencia -= monedas[i][0]\n",
    "            else:\n",
    "                i += 1\n",
    "\n",
    "    muestraVueltas(billetes, monedas)"
   ]
  },
  {
   "cell_type": "code",
   "execution_count": null,
   "metadata": {},
   "outputs": [],
   "source": [
    "#################################################################\n",
    "########  PROPUESTA DE PROLOGO Y COMPROBACIONES PREVIAS  ########\n",
    "#################################################################\n",
    "\n",
    "precio = 0\n",
    "pagado = 0\n",
    "\n",
    "precio = float(input(\"Introduzca el precio de la compra: \"))\n",
    "\n",
    "while(precio <= 0):\n",
    "    print(\"El precio no puede ser menor o igual que 0. Vuelva a introducir precio: \")\n",
    "    precio = float(input(\"Introduzca el precio: \"))\n",
    "\n",
    "pagado = float(input(\"Introduzca el importe pagado: \"))\n",
    "\n",
    "\n",
    "while(pagado < precio):\n",
    "    print(\"Lo pagado es menor que el precio de la compra. Vuelva a introducir importe pagado: \")\n",
    "    pagado = float(input(\"Introduzca el importe pagado: \"))\n",
    "    \n",
    "    \n",
    "calculaVueltas(precio, pagado)  # Llamada a la funcion principal"
   ]
  },
  {
   "cell_type": "markdown",
   "metadata": {},
   "source": [
    "#### Ejercicio 2[3,5 puntos]\n",
    "Considerar un sistema de cifrado en el que se sustituye cada letra en el texto original por otra letra que se encuentra un número fijo de posiciones más adelante en el alfabeto. Por ejemplo si el desplazamiento es 3 posiciones, y se considera la letra A, entonces sería sustituida por la letra D que se encuentra situada 3 lugares a la derecha de la A. Se considera que el alfabeto es circular por lo que a continuación de la Z comienza la letra A. Sólo se codifican las letras, el resto de símbolos se mantienen tal cual. A continuación, una vez cifrado el texto, si éste contiene más de una palabra, entonces se reordenan las palabras cifradas, moviendo cada palabra m posiciones hacia la derecha. Así la palabra que ocupa la posición 1 se mueve a la posición m+1, y así sucesivamente (la palabra que ocupa la posición n se moverá a la posición m). Se pide implementar un programa en Python que solicite al usuario que introduzca por teclado un texto a codificar, dos números que representan el desplazamiento de letras y el desplazamiento de las palabras codificadas. Como resultado, el programa mostrará por pantalla el mensaje codificado. Se deben hacer las comprobaciones necesarias sobre la entrada, es decir que es una cadena y 2 números.\n"
   ]
  },
  {
   "cell_type": "code",
   "execution_count": null,
   "metadata": {
    "collapsed": true
   },
   "outputs": [],
   "source": [
    "def troceaPalabras(palabra, pos):\n",
    "    alfabeto=('a','b','c','d','e','f','g','h','i','j','k','l','m','n','ñ','o','p','q','r','s','t','u','v','w','x','y','z')\n",
    "    x = 0\n",
    "    palabraNueva = \"\"\n",
    "    while (x < len(palabra)):\n",
    "        encontrado = False\n",
    "        y =0\n",
    "        while(y < len(alfabeto) and encontrado == False):\n",
    "            if alfabeto[y] == palabra[x] :\n",
    "                palabraNueva += alfabeto[(y+pos)%27]\n",
    "                encontrado=True\n",
    "            y+=1\n",
    "        if not encontrado:\n",
    "            palabraNueva += palabra[x]  # En caso de que sea una letra con tilde, o un signo de puntuacion, se mantiene\n",
    "        \n",
    "        x+=1\n",
    "    \n",
    "    return palabraNueva"
   ]
  },
  {
   "cell_type": "code",
   "execution_count": null,
   "metadata": {
    "collapsed": true
   },
   "outputs": [],
   "source": [
    "def troceaTexto(palabra, poslet,pospal):\n",
    "    palabra = palabra.split()\n",
    "    palabranew = \"\"\n",
    "    x = 0\n",
    "    y = len(palabra)\n",
    "    while(x < len(palabra)):\n",
    "        palabranew += troceaPalabras(palabra[(x+y-pospal)%len(palabra)],poslet)\n",
    "        if(len(palabra) - x != 1):\n",
    "            palabranew+= \" \"\n",
    "        x+=1\n",
    "    return palabranew"
   ]
  },
  {
   "cell_type": "code",
   "execution_count": null,
   "metadata": {
    "scrolled": true
   },
   "outputs": [],
   "source": [
    "#################################################################\n",
    "########  PROPUESTA DE PROLOGO Y COMPROBACIONES PREVIAS  ########\n",
    "#################################################################\n",
    "\n",
    "\n",
    "letra = input(\"Introduzca el texto: \")\n",
    "while(not isinstance(letra, str)):\n",
    "    letra = input(\"Introduzca el texto: \")\n",
    "letra =letra.lower()\n",
    "\n",
    "pos = input(\"Introduzca el desplazamiento de letras: \")\n",
    "while(not pos.isdigit()):\n",
    "    pos = input(\"Introduzca el desplazamiento de letras: \")\n",
    "pos = int(pos)\n",
    "\n",
    "posLE = input(\"Introduzca el desplazamiento de palabras: \")\n",
    "while(not posLE.isdigit()):\n",
    "    posLE = input(\"Introduzca el desplazamiento de palabras: \")\n",
    "posLE = int(posLE)\n",
    "\n",
    "x = 0\n",
    "texto = \"\"\n",
    "texto = troceaTexto(letra, pos, posLE)\n",
    "print(texto)"
   ]
  },
  {
   "cell_type": "markdown",
   "metadata": {},
   "source": [
    "##### Ejercicio 3[3,5 puntos]\n",
    "Implementar un programa en Python tal que tomando como entrada el nombre de un archivo de texto, analice el contenido  y escriba otro archivo de salida que muestre el número de veces que aparece cada palabra. Se deben eliminar separadores, conjunciones, artículos y preposiciones."
   ]
  },
  {
   "cell_type": "code",
   "execution_count": null,
   "metadata": {
    "collapsed": true
   },
   "outputs": [],
   "source": [
    "def cuentaPalabras(archivo):\n",
    "\n",
    "    separadoresDelante = ['(', '¿', '¡', '/']\n",
    "    separadoresDetras = [',', '.', ';', ':', '-', ')', '?', '!', '/']\n",
    "    conjunciones = [\"y\", \"e\", \"ni\", \"que\", \"pero\", \"mas\", \"aunque\",\n",
    "    \"siquiera\", \"sino\", \"o\", \"u\", \"ora\", \"sea\", \"bien\", \"pues\", \"como\",\n",
    "    \"porque\", \"como\", \"si\", \"aunque\", \"asi\", \"luego\", \"tan\", \"conque\", \"para\",\n",
    "    \"porque\", \"cuando\", \"mientras\", \"antes\", \"luego\", \"apenas\"]\n",
    "    articulos = [\"el\", \"la\", \"los\", \"las\", \"lo\", \"un\", \"una\", \"unos\",\n",
    "    \"unas\", \"al\", \"del\"]  # Incluimos contracciones\n",
    "    preposiciones = [\"a\", \"ante\", \"bajo\", \"cabe\", \"con\", \"contra\", \"de\", \"desde\",\n",
    "    \"en\", \"entre\", \"hacia\", \"hasta\", \"para\", \"por\", \"segun\", \"sin\", \"so\", \"sobre\",\n",
    "    \"tras\", \"durante\", \"mediante\", \"excepto\", \"salvo\"]\n",
    "\n",
    "    listaPalabras = []  # Tendra tuplas palabra-numero de apariciones\n",
    "\n",
    "    contenido = open(archivo)\n",
    "    lineas = contenido.readlines()\n",
    "    contenido.close()\n",
    "\n",
    "    for linea in lineas:\n",
    "\n",
    "        linea = linea.rstrip()  # Quitamos salto de linea del final\n",
    "        for palabra in linea.split(' '):\n",
    "\n",
    "            while (len(palabra) > 0 and palabra[len(palabra) - 1] in separadoresDetras):  # Quitamos los separadores que pueda haber detras\n",
    "                palabra = palabra[:len(palabra) - 1]\n",
    "            while (len(palabra) > 0 and (palabra[0] in separadoresDelante or palabra[0] == \"\\t\")):  # Quitamos los separadores que pueda haber delante y los tabuladores\n",
    "                palabra = palabra[1:]\n",
    "                \n",
    "            if palabra != \"\":  # Evitar los posibles saltos de linea de separacion entre parrafos\n",
    "                encontrado = False\n",
    "\n",
    "                if not((palabra in conjunciones) or (palabra in articulos) or (palabra in preposiciones)):  # Miramos si es una palabra que no queremos contabilizar\n",
    "                    contLista = 0\n",
    "                    while((not encontrado) and contLista < len(listaPalabras)):\n",
    "                        if palabra == listaPalabras[contLista][0]:\n",
    "                            encontrado = True\n",
    "                        if not encontrado:\n",
    "                            contLista += 1\n",
    "                    if encontrado:\n",
    "                        listaPalabras[contLista] = (listaPalabras[contLista][0], listaPalabras[contLista][1] + 1)  # Sumamos una aparicion\n",
    "                    else:  # Lo insertamos en la lista\n",
    "                        tupla = (palabra, 1)\n",
    "                        listaPalabras.append(tupla)\n",
    "\n",
    "    salida = open(\"recuento.txt\", 'w')\n",
    "\n",
    "    salida.write(str(listaPalabras))\n",
    "    salida.close()\n"
   ]
  },
  {
   "cell_type": "code",
   "execution_count": null,
   "metadata": {},
   "outputs": [],
   "source": [
    "#################################################################\n",
    "####################  PROPUESTA DE PROLOGO  #####################\n",
    "#################################################################\n",
    "\n",
    "\n",
    "archivo = input(\"Introduzca el nombre del archivo a analizar: \")\n",
    "\n",
    "cuentaPalabras(archivo)"
   ]
  },
  {
   "cell_type": "markdown",
   "metadata": {},
   "source": [
    "#### Normas de entrega\n",
    "\n",
    "* Fecha tope de entrega: 13/10/2017\n",
    "* La entrega se realizará subiendo al campus virtual un notebook de Jupyter con la solución. El archivo tendrá como nombre IntroPython_GrupoX donde X será el número de grupo correspondiente."
   ]
  }
 ],
 "metadata": {
  "anaconda-cloud": {},
  "kernelspec": {
   "display_name": "Python 3",
   "language": "python",
   "name": "python3"
  },
  "language_info": {
   "codemirror_mode": {
    "name": "ipython",
    "version": 3
   },
   "file_extension": ".py",
   "mimetype": "text/x-python",
   "name": "python",
   "nbconvert_exporter": "python",
   "pygments_lexer": "ipython3",
   "version": "3.6.2"
  }
 },
 "nbformat": 4,
 "nbformat_minor": 1
}
