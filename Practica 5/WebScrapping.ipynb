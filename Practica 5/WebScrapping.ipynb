{
 "cells": [
  {
   "cell_type": "markdown",
   "metadata": {},
   "source": [
    "### Práctica de Web Scraping\n",
    "\n",
    "Se va a considerar una de las páginas vista en la teoría que contiene fotos de trenes:https://www.vialibre-ffe.com/multi_foto.asp?cs=mult. En esta página aparece un menú con varios grupos de fotos de trenes. A su vez, cada grupo contiene un conjunto de subgrupos de fotos. Por ejemplo, el grupo __Renfe operadora__ se encuentra en la página https://www.vialibre-ffe.com/multi_ind_fotos.asp?cat=mu01."
   ]
  },
  {
   "cell_type": "code",
   "execution_count": null,
   "metadata": {
    "collapsed": true
   },
   "outputs": [],
   "source": [
    "from IPython.display import Image\n",
    "Image(filename='Captura1.png')"
   ]
  },
  {
   "cell_type": "markdown",
   "metadata": {},
   "source": [
    "Dentro de este grupo por ejemplo se encuentra el subgrupo __Serie120 en Irún-Hendaya__ en la página https://www.vialibre-ffe.com/multi_galeria.asp?gal=524. "
   ]
  },
  {
   "cell_type": "code",
   "execution_count": null,
   "metadata": {
    "collapsed": true
   },
   "outputs": [],
   "source": [
    "from IPython.display import Image\n",
    "Image(filename='Captura2.png')"
   ]
  },
  {
   "cell_type": "markdown",
   "metadata": {},
   "source": [
    "En dicho subgrupo se encuentran las imágenes de dicho subgrupo. Por ejemplo, a continuación, se muestra una de las imágenes del subgrupo __Serie120 en Irún-Hendaya__"
   ]
  },
  {
   "cell_type": "code",
   "execution_count": null,
   "metadata": {
    "collapsed": true
   },
   "outputs": [],
   "source": [
    "from IPython.display import Image\n",
    "Image(filename='Captura1.png')\n",
    "#for i in range(1,4):\n",
    "#    Image(filename='Captura'+str(i)+'.png')"
   ]
  },
  {
   "cell_type": "markdown",
   "metadata": {},
   "source": [
    "Las imágenes contenidas en dicha página se pueden encontrar en las etiquetas __&lt;li> &lt;img ...__ que son hijas de la etiqueta __&lt;ul class=\"pgwSlideshow\">__. Por ejemplo en la página de ejemplo, la primera imagen de dicha página es:\n",
    "\n",
    "   __&lt;li>&lt;img src=\"multimedia/galerias/IRUN120/2Alvia_120.jpg\" alt=\"\" data-description=\"\">&lt;/li>__\n",
    "   \n",
    "A continuación, se puede ver el contenido html de esa página."
   ]
  },
  {
   "cell_type": "code",
   "execution_count": null,
   "metadata": {
    "collapsed": true
   },
   "outputs": [],
   "source": [
    "import requests\n",
    "url=\"https://www.vialibre-ffe.com/multi_galeria.asp?gal=524\"\n",
    "r = requests.get(url)\n",
    "html = r.text\n",
    "print(html)"
   ]
  },
  {
   "cell_type": "markdown",
   "metadata": {},
   "source": [
    "Se pide:\n",
    "\n",
    " 1. Crear un programa en __Python__ que muestre un menú con los grupos de fotos, y que pregunte al usuario que grupo de fotos quiere visitar. Se puede asociar a cada grupo un número, y solicitar al usuario que introduzca por teclado el número del grupo. A continuación, se mostrará los subgrupos de ese grupo, y se le preguntará nuevamente al usuario que subgrupo de fotos quiere procesar. Igual que antes, se puede asociar a cada subgrupo un número, y que introduzca por teclado el número del subgrupo. Como resultado se creará un directorio en el disco local para el subgrupo elegido y en el directorio se bajarán las imágenes de los trenes. Se imprimirá por pantalla las urls de las imágenes que se están bajando. Toda la información utilizada en el programa, debe ser extraida de las páginas consideradas usando BeautifulSoup[6 puntos]\n",
    " \n",
    " 2. Crear un minibuscador en __Python__ que pregunte al usuario un conjunto de palabras clave, y  recorra el sitio web buscando todos los subgrupos en cuyo título aparezca alguna de las palabras claves. Como resultado debe mostrar los subgrupos encontrados, listando el nombre y la url de cada subgrupo [4 puntos]"
   ]
  },
  {
   "cell_type": "markdown",
   "metadata": {
    "collapsed": true
   },
   "source": [
    "# Normas de entrega\n",
    "\n",
    "* Fecha tope de entrega: 18/11/2017\n",
    "* La entrega se realizará subiendo al campus virtual un notebook de Jupyter con la solución. El archivo tendrá como nombre WebScraping_GrupoX donde X será el número de grupo correspondiente.\n"
   ]
  },
  {
   "cell_type": "code",
   "execution_count": null,
   "metadata": {
    "scrolled": false
   },
   "outputs": [],
   "source": [
    "'''\n",
    "Crear un programa en Python que muestre un menú con los grupos de fotos, \n",
    "y que pregunte al usuario que grupo de fotos quiere visitar. \n",
    "Se puede asociar a cada grupo un número, y solicitar al usuario que introduzca por teclado el número del grupo.\n",
    "A continuación, se mostrará los subgrupos de ese grupo, \n",
    "y se le preguntará nuevamente al usuario que subgrupo de fotos quiere procesar. \n",
    "Igual que antes, se puede asociar a cada subgrupo un número, \n",
    "y que introduzca por teclado el número del subgrupo. \n",
    "Como resultado se creará un directorio en el disco local para el subgrupo elegido\n",
    "y en el directorio se bajarán las imágenes de los trenes. \n",
    "Se imprimirá por pantalla las urls de las imágenes que se están bajando. \n",
    "Toda la información utilizada en el programa, debe ser extraida de las páginas consideradas usando BeautifulSoup[6 puntos]\n",
    "\n",
    "'''\n",
    "\n",
    "import urllib\n",
    "import re\n",
    "import os\n",
    "from bs4 import BeautifulSoup\n",
    "\n",
    "def guardafotos():\n",
    "\n",
    "    url = \"https://www.vialibre-ffe.com/multi_foto.asp?cs=mult\"\n",
    "    html = urllib.request.urlopen(url).read()\n",
    "    bs = BeautifulSoup(html,'html.parser')\n",
    "\n",
    "    et = bs(\"a\")\n",
    "    print(\"Elija el grupo de fotos que quiere visitar:\\n\")\n",
    "    listaGrupos = []\n",
    "    cont = 0\n",
    "    for etiq in et:\n",
    "        enlace = etiq.get(\"href\", None)\n",
    "        if \"/multi_ind_fotos.asp?cat=\" in enlace:\n",
    "            listaGrupos.append((etiq.text, enlace))\n",
    "            cont += 1\n",
    "    i = 0\n",
    "    while i < cont:\n",
    "        print (str(i+1) + \": \" + listaGrupos[i][0])\n",
    "        i += 1\n",
    "\n",
    "    num = int(input(\"\\nIntroduzca el número asociado al grupo que desea ver: \"))\n",
    "\n",
    "    while num > len(listaGrupos) or num < 1:\n",
    "        num = int(input(\"Introduzca el número asociado al grupo que desea ver: \"))\n",
    "\n",
    "    urlGrupo = \"https://www.vialibre-ffe.com\" + listaGrupos[num-1][1]\n",
    "    htmlGrupo = urllib.request.urlopen(urlGrupo).read()\n",
    "    bsGrupo = BeautifulSoup(htmlGrupo,'html.parser')\n",
    "    etGrupo = bsGrupo('a',{\"class\":\"tit_art_dest\"})\n",
    "\n",
    "    print(\"\\nElija el subgrupo de fotos que quiere visitar:\\n\")\n",
    "\n",
    "    listaSubgrupos = []\n",
    "    cont = 0\n",
    "\n",
    "    for etiq in etGrupo:\n",
    "        enlace = etiq.get(\"href\", None)\n",
    "        listaSubgrupos.append((etiq.text, enlace))\n",
    "        cont += 1\n",
    "    i = 0\n",
    "    while i < cont:\n",
    "        print (str(i+1) + \": \" + listaSubgrupos[i][0])\n",
    "        i += 1\n",
    "\n",
    "    num = int(input(\"\\nIntroduzca el número asociado al subgrupo que desea ver: \"))\n",
    "\n",
    "    while num > len(listaSubgrupos) or num < 1:\n",
    "        num = int(input(\"Introduzca el número asociado al subgrupo que desea ver: \"))\n",
    "\n",
    "    urlSubgrupo = \"https://www.vialibre-ffe.com/\" + listaSubgrupos[num-1][1]\n",
    "    nombreDirectorio = listaSubgrupos[num-1][0]\n",
    "\n",
    "    os.system('mkdir fotos') # Siempre se usa el mismo directorio, por tanto se sobreescriben fotos pasada tras pasada\n",
    "\n",
    "    htmlFinal = urllib.request.urlopen(urlSubgrupo).read()\n",
    "    bsFinal = BeautifulSoup(htmlFinal,'html.parser')\n",
    "    etFinal = bsFinal('img')\n",
    "\n",
    "    i = 1\n",
    "    for etiq in etFinal:\n",
    "        enlace = etiq.get(\"src\", None)\n",
    "\n",
    "        if \"multimedia/galerias\" in enlace:\n",
    "            archivo=open(\"fotos/imagen\" + str(i) + \".jpg\",\"wb\")\n",
    "            imagen=urllib.request.urlopen(\"https://www.vialibre-ffe.com/\" + str(enlace))\n",
    "            while True:\n",
    "                info=imagen.read(100000)\n",
    "                if len(info)<1: \n",
    "                    break\n",
    "                archivo.write(info)\n",
    "            archivo.close()\n",
    "            i += 1\n",
    "        \n",
    "guardafotos()        "
   ]
  },
  {
   "cell_type": "code",
   "execution_count": null,
   "metadata": {},
   "outputs": [],
   "source": [
    "\"\"\"2.Crear un minibuscador en Python que pregunte al usuario un conjunto de palabras clave, \n",
    "y recorra el sitio web buscando todos los subgrupos en cuyo título aparezca alguna de las palabras claves. \n",
    "Como resultado debe mostrar los subgrupos encontrados, listando el nombre y la url de cada subgrupo [4 puntos]\"\"\"\n",
    "\n",
    "\n",
    "import urllib\n",
    "import re\n",
    "from bs4 import BeautifulSoup\n",
    "\n",
    "def buscador():\n",
    "\n",
    "    palabras = input(\"Introduzca las palabras clave: \")\n",
    "    palabras = palabras.upper()\n",
    "    separadas = palabras.split()\n",
    "\n",
    "    url = \"https://www.vialibre-ffe.com/multi_foto.asp?cs=mult\"\n",
    "    html = urllib.request.urlopen(url).read()\n",
    "    bs = BeautifulSoup(html,'html.parser')\n",
    "    et = bs(\"a\")\n",
    "\n",
    "    listaGrupos = []\n",
    "    cont = 0\n",
    "    for etiq in et:\n",
    "        enlace = etiq.get(\"href\", None)\n",
    "        if \"/multi_ind_fotos.asp?cat=\" in enlace:\n",
    "            listaGrupos.append((etiq.text, enlace))\n",
    "            cont += 1\n",
    "\n",
    "    print(\"\\nCoincidencias:\\n\")\n",
    "\n",
    "    for texto, enlace in listaGrupos:\n",
    "        url = \"https://www.vialibre-ffe.com\" + enlace\n",
    "        html = urllib.request.urlopen(url).read()\n",
    "        bs = BeautifulSoup(html,'html.parser')\n",
    "        et = bs('a',{\"class\":\"tit_art_dest\"})\n",
    "\n",
    "        for etiq in et:\n",
    "\n",
    "            enlace = etiq.get(\"href\", None)\n",
    "            temp = etiq.text.upper()\n",
    "\n",
    "            for elem in separadas:\n",
    "                if elem in temp:\n",
    "                    print(etiq.text + \", con url \" + \"https://www.vialibre-ffe.com/\" + enlace)\n",
    "                    break\n",
    "\n",
    "buscador()\n"
   ]
  },
  {
   "cell_type": "code",
   "execution_count": null,
   "metadata": {
    "collapsed": true
   },
   "outputs": [],
   "source": []
  }
 ],
 "metadata": {
  "kernelspec": {
   "display_name": "Python [Root]",
   "language": "python",
   "name": "Python [Root]"
  },
  "language_info": {
   "codemirror_mode": {
    "name": "ipython",
    "version": 3
   },
   "file_extension": ".py",
   "mimetype": "text/x-python",
   "name": "python",
   "nbconvert_exporter": "python",
   "pygments_lexer": "ipython3",
   "version": "3.5.3"
  }
 },
 "nbformat": 4,
 "nbformat_minor": 2
}
